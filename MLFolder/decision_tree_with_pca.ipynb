{
 "cells": [
  {
   "cell_type": "code",
   "execution_count": 2,
   "metadata": {
    "collapsed": false
   },
   "outputs": [
    {
     "data": {
      "image/png": "[encoded data removed]",
      "text/plain": [
       "<matplotlib.figure.Figure at 0x10a542c50>"
      ]
     },
     "metadata": {},
     "output_type": "display_data"
    },
    {
     "name": "stdout",
     "output_type": "stream",
     "text": [
      "DecisionTreeClassifier 0.868536853685\n"
     ]
    }
   ],
   "source": [
    "from util import getData_tmp\n",
    "from sklearn.tree import export_graphviz\n",
    "from sklearn.utils import shuffle\n",
    "from sklearn.metrics import accuracy_score  # finding scores from different classifiers\n",
    "from sklearn.decomposition import PCA\n",
    "import numpy as np\n",
    "import matplotlib.pyplot as plt\n",
    "\n",
    "# get data\n",
    "X, Y = getData_tmp()  # X is image, Y is labels\n",
    "X, Y = shuffle(X, Y)\n",
    "N, D = X.shape\n",
    "Ntrain = int(N * 0.8)\n",
    "X_Train, Y_Train = X[:Ntrain], Y[:Ntrain]  # sets training set\n",
    "X_Test, Y_Test = X[Ntrain:], Y[Ntrain:]  # test set\n",
    "\n",
    "# feature reduction PCA w/o reducing dimensionality that computes min number of dimensions req to preserve 95% of training set variance\n",
    "pca = PCA(n_components=0.95)\n",
    "pca.fit(X_Train)\n",
    "xtrain_pca = pca.transform(X_Train) #changes size of xtrain\n",
    "xtest_pca = pca.transform(X_Test)\n",
    "\n",
    "# classifier\n",
    "tree_clf = DecisionTreeClassifier(max_depth=2)  # max_depth=2)\n",
    "tree_clf.fit(xtrain_pca, Y_Train)\n",
    "y_pred = tree_clf.predict(xtrain_pca)\n",
    "\n",
    "#plot\n",
    "plt.plot(np.cumsum(pca.explained_variance_ratio_))\n",
    "plt.xlabel('number of components')\n",
    "plt.ylabel('cumulative explained variance')\n",
    "plt.show()\n",
    "\n",
    "\n",
    "#print('score', tree_clf.score(xtest_pca, Y_Test)) #78%\n",
    "#print('pred label', tree_clf.predict(xtest_pca))\n",
    "print(tree_clf.__class__.__name__, accuracy_score(Y_Train, y_pred))\n",
    "\n",
    "# steps to create decision tree graph here\n",
    "class_type = []\n",
    "tree_class0 = tree_clf.classes_\n",
    "\n",
    "for item in tree_class0:\n",
    "    a = str(item)\n",
    "    class_type.append(a)\n",
    "\n",
    "with open(\"/Users/rhinomonkey/Desktop/MLFolder/tree_img_pca.txt\", \"w\") as f:\n",
    "    export_graphviz(tree_clf, out_file=f, class_names=class_type)\n",
    "# take text and run in webgraphviz website\n",
    "# samples: shows how many training instances it applies to\n",
    "# gini measures node impurity, considered \"pure\" if gini = 0 which means all training instances belong to that class"
   ]
  },
  {
   "cell_type": "code",
   "execution_count": null,
   "metadata": {
    "collapsed": true
   },
   "outputs": [],
   "source": []
  }
 ],
 "metadata": {
  "kernelspec": {
   "display_name": "Python 3",
   "language": "python",
   "name": "python3"
  },
  "language_info": {
   "codemirror_mode": {
    "name": "ipython",
    "version": 3
   },
   "file_extension": ".py",
   "mimetype": "text/x-python",
   "name": "python",
   "nbconvert_exporter": "python",
   "pygments_lexer": "ipython3",
   "version": "3.6.0"
  }
 },
 "nbformat": 4,
 "nbformat_minor": 2
}
