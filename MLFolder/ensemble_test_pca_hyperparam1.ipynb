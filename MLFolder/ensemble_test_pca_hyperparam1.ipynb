{
 "cells": [
  {
   "cell_type": "code",
   "execution_count": 1,
   "metadata": {
    "collapsed": false
   },
   "outputs": [
    {
     "name": "stdout",
     "output_type": "stream",
     "text": [
      "LogisticRegression 0.865934065934\n",
      "RandomForestClassifier 1.0\n",
      "SVC 0.863736263736\n",
      "BaggingClassifier 0.920879120879\n",
      "GradientBoostingClassifier 1.0\n",
      "AdaBoostClassifier 1.0\n",
      "ExtraTreesClassifier 1.0\n",
      "VotingClassifier 1.0\n"
     ]
    }
   ],
   "source": [
    "from sklearn.ensemble import RandomForestClassifier\n",
    "from sklearn.ensemble import VotingClassifier\n",
    "from sklearn.linear_model import LogisticRegression\n",
    "from sklearn.svm import SVC\n",
    "from sklearn.ensemble import (BaggingClassifier,ExtraTreesClassifier, RandomForestClassifier,\n",
    "                              AdaBoostClassifier, GradientBoostingClassifier)  # bagging aka bootstrapping\n",
    "from sklearn.tree import DecisionTreeClassifier  # bagging\n",
    "from util import getData_tmp\n",
    "from sklearn.metrics import accuracy_score  # finding scores from different classifiers\n",
    "from sklearn.utils import shuffle\n",
    "from sklearn.decomposition import PCA\n",
    "from sklearn.ensemble import GradientBoostingClassifier\n",
    "\n",
    "\n",
    "def main():\n",
    "    X, Y = getData_tmp()  # X is image, Y is labels\n",
    "    X, Y = shuffle(X, Y)\n",
    "    N, D = X.shape\n",
    "    Ntrain = int(N * 0.8)\n",
    "    X_Train, Y_Train = X[:Ntrain], Y[:Ntrain]  # sets training set\n",
    "    X_Test, Y_Test = X[Ntrain:], Y[Ntrain:]  # test set\n",
    "\n",
    "    # feature reduction PCA w/o reducing dimensionality that computes min number of dimensions req to preserve 95% of training set variance\n",
    "    pca = PCA(n_components=0.95)\n",
    "    pca.fit(X_Train)\n",
    "    xtrain_pca = pca.transform(X_Train)  # changes size of xtrain\n",
    "    xtest_pca = pca.transform(X_Test)\n",
    "\n",
    "    log_clf = LogisticRegression(random_state=1)\n",
    "    rnd_clf = RandomForestClassifier(n_estimators=500,criterion='entropy', random_state=1, n_jobs=-1)\n",
    "    svm_clf = SVC(kernel='rbf', gamma='auto')\n",
    "    bag_clf = BaggingClassifier(DecisionTreeClassifier(), n_estimators=500, max_samples=800, bootstrap=True,\n",
    "                                n_jobs=-1)  # boot, n_estimators: number of trees or rounds\n",
    "    gb_clf = GradientBoostingClassifier(n_estimators=500, learning_rate=0.08, max_depth=3, random_state=0)\n",
    "    ada_clf = AdaBoostClassifier(n_estimators=500)\n",
    "    extratree_clf=ExtraTreesClassifier(n_estimators=500)\n",
    "\n",
    "    voting_clf = VotingClassifier(estimators=[('lr', log_clf), ('rf', rnd_clf), ('svc', svm_clf), ('bag', bag_clf),\n",
    "                                              ('gb', gb_clf),('ada',ada_clf),('extraTree',extratree_clf)],voting='hard')\n",
    "    # can change to soft voting to get higher performance because gives weight to highly confident nvotes\n",
    "    voting_clf.fit(xtrain_pca, Y_Train)\n",
    "\n",
    "    # examining each classifier's accuracy on test set\n",
    "    for clf in (log_clf, rnd_clf, svm_clf,bag_clf, gb_clf,ada_clf,extratree_clf, voting_clf):\n",
    "        clf.fit(X, Y)  # represents x train and y train\n",
    "        y_pred = clf.predict(X_Test)\n",
    "        print(clf.__class__.__name__, accuracy_score(Y_Test, y_pred))  # supposed to be y_test, y_pred\n",
    "        # whatever has the highest value is the best\n",
    "\n",
    "\n",
    "if __name__ == '__main__':\n",
    "    main()\n"
   ]
  },
  {
   "cell_type": "code",
   "execution_count": null,
   "metadata": {
    "collapsed": true
   },
   "outputs": [],
   "source": []
  }
 ],
 "metadata": {
  "kernelspec": {
   "display_name": "Python 3",
   "language": "python",
   "name": "python3"
  },
  "language_info": {
   "codemirror_mode": {
    "name": "ipython",
    "version": 3
   },
   "file_extension": ".py",
   "mimetype": "text/x-python",
   "name": "python",
   "nbconvert_exporter": "python",
   "pygments_lexer": "ipython3",
   "version": "3.6.0"
  }
 },
 "nbformat": 4,
 "nbformat_minor": 2
}
