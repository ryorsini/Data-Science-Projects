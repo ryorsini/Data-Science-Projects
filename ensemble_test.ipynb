{
 "cells": [
  {
   "cell_type": "code",
   "execution_count": 2,
   "metadata": {
    "collapsed": false
   },
   "outputs": [
    {
     "name": "stdout",
     "output_type": "stream",
     "text": [
      "LogisticRegression 0.864835164835\n",
      "RandomForestClassifier 0.891208791209\n",
      "SVC 0.887912087912\n",
      "VotingClassifier 0.893406593407\n",
      "BaggingClassifier 0.898901098901\n"
     ]
    }
   ],
   "source": [
    "from sklearn.ensemble import RandomForestClassifier\n",
    "from sklearn.ensemble import VotingClassifier\n",
    "from sklearn.linear_model import LogisticRegression\n",
    "from sklearn.svm import SVC\n",
    "from sklearn.ensemble import BaggingClassifier  # bagging aka bootstrapping\n",
    "from sklearn.tree import DecisionTreeClassifier  # bagging\n",
    "from util import getData_tmp\n",
    "from sklearn.metrics import accuracy_score  # finding scores from different classifiers\n",
    "from sklearn.utils import shuffle\n",
    "\n",
    "\n",
    "def main():\n",
    "    X, Y = getData_tmp()\n",
    "    X, Y = shuffle(X, Y)  # shuffles rows, X is raw images, Y is labels, x=image, y= label\n",
    "\n",
    "    N, D = X.shape\n",
    "    # print (X.shape) #(4546, 720)\n",
    "    Ntrain = int(N * 0.8)  # sets training set\n",
    "    # print(Ntrain) #3636 rows/ images, sets training sample size\n",
    "    Xvalid, Yvalid = X[Ntrain:], Y[Ntrain:]  # defines validation set\n",
    "    # print ('xvalid shape:',Xvalid.shape,'yvalid shape:', Yvalid.shape)\n",
    "\n",
    "    X, Y = X[:Ntrain], Y[:Ntrain]  # sets training set\n",
    "    # print ('X shape:', X.shape, 'Y shape:', Y.shape)\n",
    "    log_clf = LogisticRegression()\n",
    "    rnd_clf = RandomForestClassifier()\n",
    "    svm_clf = SVC()\n",
    "    bag_clf = BaggingClassifier(DecisionTreeClassifier(), n_estimators=50, max_samples=800, bootstrap=True,\n",
    "                                n_jobs=-1)  # boot, n_estimators: number of trees or rounds\n",
    "    # bag_clf.fit(X_train, Y_train) #boot\n",
    "    # y_pred = bag_clf.predict(X_test) #boot\n",
    "    voting_clf = VotingClassifier(estimators=[('lr', log_clf), ('rf', rnd_clf), ('svc', svm_clf), ('bag', bag_clf)],\n",
    "                                  voting='hard')  # can change to soft voting to get higher performance because gives weight to highly confident nvotes\n",
    "    voting_clf.fit(X, Y)\n",
    "\n",
    "    # examining each classifier's accuracy on test set\n",
    "    for clf in (log_clf, rnd_clf, svm_clf, voting_clf, bag_clf):\n",
    "        clf.fit(X, Y)  # represents x train and y train\n",
    "        y_pred = clf.predict(Xvalid)\n",
    "        print(clf.__class__.__name__, accuracy_score(Yvalid, y_pred))  # supposed to be y_test, y_pred\n",
    "        # whatever has the highest value is the best\n",
    "\n",
    "\n",
    "if __name__ == '__main__':\n",
    "    main()\n"
   ]
  },
  {
   "cell_type": "code",
   "execution_count": null,
   "metadata": {
    "collapsed": true
   },
   "outputs": [],
   "source": []
  }
 ],
 "metadata": {
  "kernelspec": {
   "display_name": "Python 3",
   "language": "python",
   "name": "python3"
  },
  "language_info": {
   "codemirror_mode": {
    "name": "ipython",
    "version": 3
   },
   "file_extension": ".py",
   "mimetype": "text/x-python",
   "name": "python",
   "nbconvert_exporter": "python",
   "pygments_lexer": "ipython3",
   "version": "3.6.0"
  }
 },
 "nbformat": 4,
 "nbformat_minor": 2
}
