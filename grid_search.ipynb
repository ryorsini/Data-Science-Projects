{
 "cells": [
  {
   "cell_type": "code",
   "execution_count": 1,
   "metadata": {
    "collapsed": false
   },
   "outputs": [
    {
     "name": "stdout",
     "output_type": "stream",
     "text": [
      "Running GridSearchCV for ExtraTreesClassifier.\n",
      "Fitting 3 folds for each of 2 candidates, totalling 6 fits\n",
      "Running GridSearchCV for RandomForestClassifier.\n",
      "Fitting 3 folds for each of 2 candidates, totalling 6 fits\n"
     ]
    },
    {
     "name": "stderr",
     "output_type": "stream",
     "text": [
      "[Parallel(n_jobs=-1)]: Done   6 out of   6 | elapsed:    1.7s remaining:    0.0s\n",
      "[Parallel(n_jobs=-1)]: Done   6 out of   6 | elapsed:    1.7s finished\n"
     ]
    },
    {
     "name": "stdout",
     "output_type": "stream",
     "text": [
      "Running GridSearchCV for AdaBoostClassifier.\n",
      "Fitting 3 folds for each of 2 candidates, totalling 6 fits\n"
     ]
    },
    {
     "name": "stderr",
     "output_type": "stream",
     "text": [
      "[Parallel(n_jobs=-1)]: Done   6 out of   6 | elapsed:    3.4s remaining:    0.0s\n",
      "[Parallel(n_jobs=-1)]: Done   6 out of   6 | elapsed:    3.4s finished\n"
     ]
    },
    {
     "name": "stdout",
     "output_type": "stream",
     "text": [
      "Running GridSearchCV for GradientBoostingClassifier.\n",
      "Fitting 3 folds for each of 4 candidates, totalling 12 fits\n"
     ]
    },
    {
     "name": "stderr",
     "output_type": "stream",
     "text": [
      "[Parallel(n_jobs=-1)]: Done   6 out of   6 | elapsed:   13.3s remaining:    0.0s\n",
      "[Parallel(n_jobs=-1)]: Done   6 out of   6 | elapsed:   13.3s finished\n"
     ]
    },
    {
     "name": "stdout",
     "output_type": "stream",
     "text": [
      "Running GridSearchCV for SVC.\n",
      "Fitting 3 folds for each of 6 candidates, totalling 18 fits\n"
     ]
    },
    {
     "name": "stderr",
     "output_type": "stream",
     "text": [
      "[Parallel(n_jobs=-1)]: Done  12 out of  12 | elapsed:   27.0s finished\n"
     ]
    },
    {
     "name": "stdout",
     "output_type": "stream",
     "text": [
      "                     estimator min_score mean_score max_score    std_score  \\\n",
      "1         ExtraTreesClassifier  0.809717   0.822244  0.843501     0.015111   \n",
      "3       RandomForestClassifier  0.807065   0.822372  0.845745    0.0167894   \n",
      "0         ExtraTreesClassifier  0.804911   0.830614  0.850667    0.0191021   \n",
      "2       RandomForestClassifier  0.802244   0.815268  0.835341     0.014402   \n",
      "14                         SVC  0.791284   0.801061  0.806704   0.00694052   \n",
      "12                         SVC  0.787472   0.790673   0.79496   0.00315179   \n",
      "10                         SVC  0.782708   0.787987  0.796892   0.00633326   \n",
      "15                         SVC  0.782609    0.78861  0.794489   0.00485092   \n",
      "6   GradientBoostingClassifier  0.779221   0.804626  0.835165    0.0231257   \n",
      "7   GradientBoostingClassifier  0.776623   0.804494  0.826733    0.0208411   \n",
      "8   GradientBoostingClassifier  0.774194   0.793568  0.824691    0.0222268   \n",
      "9   GradientBoostingClassifier  0.773562   0.793936  0.816525    0.0176094   \n",
      "11                         SVC  0.768362   0.779575  0.792325   0.00984325   \n",
      "4           AdaBoostClassifier  0.762646   0.775812  0.800971    0.0177965   \n",
      "5           AdaBoostClassifier  0.757458   0.782782  0.803922    0.0191982   \n",
      "13                         SVC  0.743466   0.744304   0.74498  0.000628816   \n",
      "\n",
      "      C   gamma  kernel learning_rate n_estimators  \n",
      "1   NaN     NaN     NaN           NaN           32  \n",
      "3   NaN     NaN     NaN           NaN           32  \n",
      "0   NaN     NaN     NaN           NaN           16  \n",
      "2   NaN     NaN     NaN           NaN           16  \n",
      "14   10   0.001     rbf           NaN          NaN  \n",
      "12    1   0.001     rbf           NaN          NaN  \n",
      "10    1     NaN  linear           NaN          NaN  \n",
      "15   10  0.0001     rbf           NaN          NaN  \n",
      "6   NaN     NaN     NaN           0.8           16  \n",
      "7   NaN     NaN     NaN           0.8           32  \n",
      "8   NaN     NaN     NaN             1           16  \n",
      "9   NaN     NaN     NaN             1           32  \n",
      "11   10     NaN  linear           NaN          NaN  \n",
      "4   NaN     NaN     NaN           NaN           16  \n",
      "5   NaN     NaN     NaN           NaN           32  \n",
      "13    1  0.0001     rbf           NaN          NaN  \n"
     ]
    },
    {
     "name": "stderr",
     "output_type": "stream",
     "text": [
      "[Parallel(n_jobs=-1)]: Done  18 out of  18 | elapsed:   51.7s finished\n",
      "/Users/rhinomonkey/anaconda/lib/python3.6/site-packages/sklearn/model_selection/_search.py:667: DeprecationWarning: The grid_scores_ attribute was deprecated in version 0.18 in favor of the more elaborate cv_results_ attribute. The grid_scores_ attribute will not be available from 0.20\n",
      "  DeprecationWarning)\n",
      "/Users/rhinomonkey/anaconda/lib/python3.6/site-packages/sklearn/model_selection/_search.py:667: DeprecationWarning: The grid_scores_ attribute was deprecated in version 0.18 in favor of the more elaborate cv_results_ attribute. The grid_scores_ attribute will not be available from 0.20\n",
      "  DeprecationWarning)\n",
      "/Users/rhinomonkey/anaconda/lib/python3.6/site-packages/sklearn/model_selection/_search.py:667: DeprecationWarning: The grid_scores_ attribute was deprecated in version 0.18 in favor of the more elaborate cv_results_ attribute. The grid_scores_ attribute will not be available from 0.20\n",
      "  DeprecationWarning)\n",
      "/Users/rhinomonkey/anaconda/lib/python3.6/site-packages/sklearn/model_selection/_search.py:667: DeprecationWarning: The grid_scores_ attribute was deprecated in version 0.18 in favor of the more elaborate cv_results_ attribute. The grid_scores_ attribute will not be available from 0.20\n",
      "  DeprecationWarning)\n",
      "/Users/rhinomonkey/anaconda/lib/python3.6/site-packages/sklearn/model_selection/_search.py:667: DeprecationWarning: The grid_scores_ attribute was deprecated in version 0.18 in favor of the more elaborate cv_results_ attribute. The grid_scores_ attribute will not be available from 0.20\n",
      "  DeprecationWarning)\n"
     ]
    }
   ],
   "source": [
    "import pandas as pd\n",
    "from sklearn.model_selection import GridSearchCV\n",
    "import numpy as np\n",
    "from util import getData_tmp\n",
    "from sklearn.utils import shuffle\n",
    "\n",
    "\n",
    "def main():\n",
    "    # get data\n",
    "    X, Y = getData_tmp()  # X is image, Y is labels\n",
    "    X, Y = shuffle(X, Y)\n",
    "    N, D = X.shape\n",
    "    Ntrain = int(N * 0.8)\n",
    "    X_Train, Y_Train = X[:Ntrain], Y[:Ntrain]  # sets training set\n",
    "    X_Valid, Y_Valid = X[Ntrain:], Y[Ntrain:]  # validation\n",
    "\n",
    "    class EstimatorSelectionHelper:\n",
    "        def __init__(self, models, params):\n",
    "            if not set(models.keys()).issubset(set(params.keys())):\n",
    "                missing_params = list(set(models.keys()) - set(params.keys()))\n",
    "                raise ValueError(\"Some estimators are missing parameters: %s\" % missing_params)\n",
    "            self.models = models\n",
    "            self.params = params\n",
    "            self.keys = models.keys()\n",
    "            self.grid_searches = {}\n",
    "\n",
    "        def fit(self, X_Train, Y_Train, cv=3, n_jobs=-1, verbose=1, scoring=None, refit=False):\n",
    "            for key in self.keys:\n",
    "                print(\"Running GridSearchCV for %s.\" % key)\n",
    "                model = self.models[key]\n",
    "                params = self.params[key]\n",
    "                gs = GridSearchCV(model, params, cv=cv, n_jobs=n_jobs,\n",
    "                                  verbose=verbose, scoring=scoring, refit=refit)\n",
    "                gs.fit(X_Train, Y_Train)\n",
    "                self.grid_searches[key] = gs\n",
    "\n",
    "        def score_summary(self, sort_by='mean_score'):\n",
    "            def row(key, scores, params):\n",
    "                d = {\n",
    "                    'estimator': key,\n",
    "                    'min_score': min(scores),\n",
    "                    'max_score': max(scores),\n",
    "                    'mean_score': np.mean(scores),\n",
    "                    'std_score': np.std(scores),\n",
    "                }\n",
    "                return pd.Series({**params,**d}) #py3\n",
    "\n",
    "                #return pd.Series(dict(params.items() + d.items())) #py2.7\n",
    "\n",
    "            rows = [row(k, gsc.cv_validation_scores, gsc.parameters)\n",
    "                    for k in self.keys\n",
    "                    for gsc in self.grid_searches[k].grid_scores_]\n",
    "            df = pd.concat(rows, axis=1).T.sort_values([sort_by], ascending=False)\n",
    "\n",
    "            columns = ['estimator', 'min_score', 'mean_score', 'max_score', 'std_score']\n",
    "            columns = columns + [c for c in df.columns if c not in columns]\n",
    "\n",
    "            return df[columns]\n",
    "#using it on classification\n",
    "    from sklearn.ensemble import (ExtraTreesClassifier, RandomForestClassifier,\n",
    "                                  AdaBoostClassifier, GradientBoostingClassifier)\n",
    "    from sklearn.svm import SVC\n",
    "\n",
    "    models1 = {\n",
    "        'ExtraTreesClassifier': ExtraTreesClassifier(class_weight='balanced'),\n",
    "        'RandomForestClassifier': RandomForestClassifier(class_weight='balanced'),\n",
    "        'AdaBoostClassifier': AdaBoostClassifier(),\n",
    "        'GradientBoostingClassifier': GradientBoostingClassifier(),\n",
    "        'SVC': SVC(class_weight='balanced')\n",
    "    }\n",
    "\n",
    "    params1 = {\n",
    "        'ExtraTreesClassifier': {'n_estimators': [16, 32]}, #n_estimators: number of rounds/trees\n",
    "        'RandomForestClassifier': {'n_estimators': [16, 32]},\n",
    "        'AdaBoostClassifier': {'n_estimators': [16, 32]},\n",
    "        'GradientBoostingClassifier': {'n_estimators': [16, 32], 'learning_rate': [0.8, 1.0]},\n",
    "        'SVC': [\n",
    "            {'kernel': ['linear'], 'C': [1, 10]},\n",
    "            {'kernel': ['rbf'], 'C': [1, 10], 'gamma': [0.001, 0.0001]},\n",
    "        ]\n",
    "    }\n",
    "\n",
    "    helper1 = EstimatorSelectionHelper(models1, params1)\n",
    "    helper1.fit(X_Train, Y_Train, scoring='f1', n_jobs=-1)\n",
    "\n",
    "    print(helper1.score_summary(sort_by='min_score'))\n",
    "\n",
    "\n",
    "if __name__ == '__main__':\n",
    "    main()\n"
   ]
  },
  {
   "cell_type": "code",
   "execution_count": null,
   "metadata": {
    "collapsed": true
   },
   "outputs": [],
   "source": []
  }
 ],
 "metadata": {
  "kernelspec": {
   "display_name": "Python 3",
   "language": "python",
   "name": "python3"
  },
  "language_info": {
   "codemirror_mode": {
    "name": "ipython",
    "version": 3
   },
   "file_extension": ".py",
   "mimetype": "text/x-python",
   "name": "python",
   "nbconvert_exporter": "python",
   "pygments_lexer": "ipython3",
   "version": "3.6.0"
  }
 },
 "nbformat": 4,
 "nbformat_minor": 2
}
