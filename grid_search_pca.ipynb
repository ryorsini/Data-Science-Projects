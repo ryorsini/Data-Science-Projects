{
 "cells": [
  {
   "cell_type": "code",
   "execution_count": 1,
   "metadata": {
    "collapsed": false
   },
   "outputs": [
    {
     "name": "stdout",
     "output_type": "stream",
     "text": [
      "Running GridSearchCV for ExtraTreesClassifier.\n",
      "Fitting 3 folds for each of 2 candidates, totalling 6 fits\n",
      "Running GridSearchCV for RandomForestClassifier.\n",
      "Fitting 3 folds for each of 2 candidates, totalling 6 fits\n"
     ]
    },
    {
     "name": "stderr",
     "output_type": "stream",
     "text": [
      "[Parallel(n_jobs=-1)]: Done   6 out of   6 | elapsed:    0.4s remaining:    0.0s\n",
      "[Parallel(n_jobs=-1)]: Done   6 out of   6 | elapsed:    0.4s finished\n"
     ]
    },
    {
     "name": "stdout",
     "output_type": "stream",
     "text": [
      "Running GridSearchCV for AdaBoostClassifier.\n",
      "Fitting 3 folds for each of 2 candidates, totalling 6 fits\n"
     ]
    },
    {
     "name": "stderr",
     "output_type": "stream",
     "text": [
      "[Parallel(n_jobs=-1)]: Done   6 out of   6 | elapsed:    0.9s remaining:    0.0s\n",
      "[Parallel(n_jobs=-1)]: Done   6 out of   6 | elapsed:    0.9s finished\n"
     ]
    },
    {
     "name": "stdout",
     "output_type": "stream",
     "text": [
      "Running GridSearchCV for GradientBoostingClassifier.\n",
      "Fitting 3 folds for each of 2 candidates, totalling 6 fits\n"
     ]
    },
    {
     "name": "stderr",
     "output_type": "stream",
     "text": [
      "[Parallel(n_jobs=-1)]: Done   6 out of   6 | elapsed:    1.4s remaining:    0.0s\n",
      "[Parallel(n_jobs=-1)]: Done   6 out of   6 | elapsed:    1.4s finished\n"
     ]
    },
    {
     "name": "stdout",
     "output_type": "stream",
     "text": [
      "Running GridSearchCV for SVC.\n",
      "Fitting 3 folds for each of 6 candidates, totalling 18 fits\n"
     ]
    },
    {
     "name": "stderr",
     "output_type": "stream",
     "text": [
      "[Parallel(n_jobs=-1)]: Done   6 out of   6 | elapsed:    1.4s remaining:    0.0s\n",
      "[Parallel(n_jobs=-1)]: Done   6 out of   6 | elapsed:    1.4s finished\n"
     ]
    },
    {
     "name": "stdout",
     "output_type": "stream",
     "text": [
      "                     estimator min_score mean_score max_score   std_score  \\\n",
      "7   GradientBoostingClassifier  0.785425   0.811067  0.836551   0.0208723   \n",
      "12                         SVC  0.781503   0.793233  0.806005   0.0100298   \n",
      "10                         SVC  0.773393   0.787112  0.798176   0.0102899   \n",
      "4           AdaBoostClassifier  0.772432   0.788067   0.80916   0.0154831   \n",
      "6   GradientBoostingClassifier   0.77095    0.79649   0.83727    0.029141   \n",
      "13                         SVC  0.768539   0.785321  0.795895   0.0119994   \n",
      "9                          SVC  0.767962   0.784722  0.801394   0.0136485   \n",
      "8                          SVC  0.766157    0.78581  0.804651   0.0157254   \n",
      "5           AdaBoostClassifier   0.76326    0.79272  0.828897    0.027214   \n",
      "1         ExtraTreesClassifier  0.746224   0.784862  0.817927    0.029537   \n",
      "11                         SVC  0.735471   0.741887  0.753036  0.00791361   \n",
      "0         ExtraTreesClassifier  0.733533   0.756345  0.799431   0.0304842   \n",
      "3       RandomForestClassifier  0.732224   0.776075  0.803977   0.0313889   \n",
      "2       RandomForestClassifier  0.720247   0.755631  0.778761   0.0254108   \n",
      "\n",
      "      C   gamma  kernel n_estimators  \n",
      "7   NaN     NaN     NaN           32  \n",
      "12   10   0.001     rbf          NaN  \n",
      "10    1   0.001     rbf          NaN  \n",
      "4   NaN     NaN     NaN           16  \n",
      "6   NaN     NaN     NaN           16  \n",
      "13   10  0.0001     rbf          NaN  \n",
      "9    10     NaN  linear          NaN  \n",
      "8     1     NaN  linear          NaN  \n",
      "5   NaN     NaN     NaN           32  \n",
      "1   NaN     NaN     NaN           32  \n",
      "11    1  0.0001     rbf          NaN  \n",
      "0   NaN     NaN     NaN           16  \n",
      "3   NaN     NaN     NaN           32  \n",
      "2   NaN     NaN     NaN           16  \n"
     ]
    },
    {
     "name": "stderr",
     "output_type": "stream",
     "text": [
      "[Parallel(n_jobs=-1)]: Done  18 out of  18 | elapsed:    7.2s finished\n",
      "/Users/rhinomonkey/anaconda/lib/python3.6/site-packages/sklearn/model_selection/_search.py:667: DeprecationWarning: The grid_scores_ attribute was deprecated in version 0.18 in favor of the more elaborate cv_results_ attribute. The grid_scores_ attribute will not be available from 0.20\n",
      "  DeprecationWarning)\n",
      "/Users/rhinomonkey/anaconda/lib/python3.6/site-packages/sklearn/model_selection/_search.py:667: DeprecationWarning: The grid_scores_ attribute was deprecated in version 0.18 in favor of the more elaborate cv_results_ attribute. The grid_scores_ attribute will not be available from 0.20\n",
      "  DeprecationWarning)\n",
      "/Users/rhinomonkey/anaconda/lib/python3.6/site-packages/sklearn/model_selection/_search.py:667: DeprecationWarning: The grid_scores_ attribute was deprecated in version 0.18 in favor of the more elaborate cv_results_ attribute. The grid_scores_ attribute will not be available from 0.20\n",
      "  DeprecationWarning)\n",
      "/Users/rhinomonkey/anaconda/lib/python3.6/site-packages/sklearn/model_selection/_search.py:667: DeprecationWarning: The grid_scores_ attribute was deprecated in version 0.18 in favor of the more elaborate cv_results_ attribute. The grid_scores_ attribute will not be available from 0.20\n",
      "  DeprecationWarning)\n",
      "/Users/rhinomonkey/anaconda/lib/python3.6/site-packages/sklearn/model_selection/_search.py:667: DeprecationWarning: The grid_scores_ attribute was deprecated in version 0.18 in favor of the more elaborate cv_results_ attribute. The grid_scores_ attribute will not be available from 0.20\n",
      "  DeprecationWarning)\n"
     ]
    }
   ],
   "source": [
    "import pandas as pd\n",
    "from sklearn.model_selection import GridSearchCV\n",
    "import numpy as np\n",
    "from util import getData_tmp\n",
    "from sklearn.utils import shuffle\n",
    "from sklearn.decomposition import PCA\n",
    "from sklearn.ensemble import (ExtraTreesClassifier, RandomForestClassifier,\n",
    "                              AdaBoostClassifier, GradientBoostingClassifier)\n",
    "from sklearn.svm import SVC\n",
    "\n",
    "\n",
    "def main():\n",
    "    X, Y = getData_tmp()  # X is image, Y is labels\n",
    "    X, Y = shuffle(X, Y)\n",
    "    N, D = X.shape\n",
    "    Ntrain = int(N * 0.8)\n",
    "    X_Train, Y_Train = X[:Ntrain], Y[:Ntrain]  # sets training set\n",
    "    X_Test, Y_Test = X[Ntrain:], Y[Ntrain:]  # test set\n",
    "\n",
    "    # feature reduction PCA w/o reducing dimensionality that computes min number of dimensions req to preserve 95% of training set variance\n",
    "    pca = PCA(n_components=0.95)\n",
    "    pca.fit(X_Train)\n",
    "    xtrain_pca = pca.transform(X_Train)  # changes size of xtrain\n",
    "    xtest_pca = pca.transform(X_Test)\n",
    "\n",
    "    class EstimatorSelectionHelper:\n",
    "        def __init__(self, models, params):\n",
    "            if not set(models.keys()).issubset(set(params.keys())):\n",
    "                missing_params = list(set(models.keys()) - set(params.keys()))\n",
    "                raise ValueError(\"Some estimators are missing parameters: %s\" % missing_params)\n",
    "            self.models = models\n",
    "            self.params = params\n",
    "            self.keys = models.keys()\n",
    "            self.grid_searches = {}\n",
    "\n",
    "        def fit(self, x, y, cv=3, n_jobs=-1, verbose=1, scoring=None, refit=False):\n",
    "            for key in self.keys:\n",
    "                print(\"Running GridSearchCV for %s.\" % key)\n",
    "                model = self.models[key]\n",
    "                params = self.params[key]\n",
    "                gs = GridSearchCV(model, params, cv=cv, n_jobs=n_jobs,\n",
    "                                  verbose=verbose, scoring=scoring, refit=refit)\n",
    "                gs.fit(x, y)\n",
    "                self.grid_searches[key] = gs\n",
    "\n",
    "        def score_summary(self, sort_by='mean_score'):\n",
    "            def row(key, scores, params):\n",
    "                d = {\n",
    "                    'estimator': key,\n",
    "                    'min_score': min(scores),\n",
    "                    'max_score': max(scores),\n",
    "                    'mean_score': np.mean(scores),\n",
    "                    'std_score': np.std(scores),\n",
    "                }\n",
    "                return pd.Series({**params, **d})  # py3\n",
    "\n",
    "                # return pd.Series(dict(params.items() + d.items())) #py2.7\n",
    "\n",
    "            rows = [row(k, gsc.cv_validation_scores, gsc.parameters)\n",
    "                    for k in self.keys\n",
    "                    for gsc in self.grid_searches[k].grid_scores_]\n",
    "            df = pd.concat(rows, axis=1).T.sort_values([sort_by], ascending=False)\n",
    "\n",
    "            columns = ['estimator', 'min_score', 'mean_score', 'max_score', 'std_score']\n",
    "            columns = columns + [c for c in df.columns if c not in columns]\n",
    "\n",
    "            return df[columns]\n",
    "\n",
    "            # using it on classification\n",
    "\n",
    "    models1 = {\n",
    "        'ExtraTreesClassifier': ExtraTreesClassifier(),\n",
    "        'RandomForestClassifier': RandomForestClassifier(),\n",
    "        'AdaBoostClassifier': AdaBoostClassifier(),\n",
    "        'GradientBoostingClassifier': GradientBoostingClassifier(),\n",
    "        'SVC': SVC(class_weight='balanced')\n",
    "    }\n",
    "\n",
    "    params1 = {\n",
    "        'ExtraTreesClassifier': {'n_estimators': [16, 32]},\n",
    "        'RandomForestClassifier': {'n_estimators': [16, 32]},\n",
    "        'AdaBoostClassifier': {'n_estimators': [16, 32]},\n",
    "        'GradientBoostingClassifier': {'n_estimators': [16, 32]},\n",
    "        'SVC': [\n",
    "            {'kernel': ['linear'], 'C': [1, 10]},\n",
    "            {'kernel': ['rbf'], 'C': [1, 10], 'gamma': [0.001, 0.0001]},\n",
    "        ]\n",
    "    }\n",
    "\n",
    "    helper1 = EstimatorSelectionHelper(models1, params1)\n",
    "    helper1.fit(xtrain_pca, Y_Train, scoring='f1', n_jobs=-1)\n",
    "\n",
    "    print(helper1.score_summary(sort_by='min_score'))\n",
    "\n",
    "\n",
    "if __name__ == '__main__':\n",
    "    main()\n"
   ]
  },
  {
   "cell_type": "code",
   "execution_count": null,
   "metadata": {
    "collapsed": true
   },
   "outputs": [],
   "source": []
  }
 ],
 "metadata": {
  "kernelspec": {
   "display_name": "Python 3",
   "language": "python",
   "name": "python3"
  },
  "language_info": {
   "codemirror_mode": {
    "name": "ipython",
    "version": 3
   },
   "file_extension": ".py",
   "mimetype": "text/x-python",
   "name": "python",
   "nbconvert_exporter": "python",
   "pygments_lexer": "ipython3",
   "version": "3.6.0"
  }
 },
 "nbformat": 4,
 "nbformat_minor": 2
}
